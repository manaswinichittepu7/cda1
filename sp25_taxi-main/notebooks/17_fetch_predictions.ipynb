{
 "cells": [
  {
   "cell_type": "code",
   "execution_count": 1,
   "id": "1555e775-4045-409a-a2cd-b22934b5fe3b",
   "metadata": {},
   "outputs": [],
   "source": [
    "%load_ext autoreload\n",
    "%autoreload 2"
   ]
  },
  {
   "cell_type": "code",
   "execution_count": 2,
   "id": "15e2d67e-a5c7-453c-84e8-a210c608e9f0",
   "metadata": {},
   "outputs": [],
   "source": [
    "import sys\n",
    "import os\n",
    "\n",
    "# Add the parent directory to the Python path\n",
    "sys.path.append(os.path.abspath(os.path.join(os.getcwd(), \"..\")))\n",
    "import src.config as config"
   ]
  },
  {
   "cell_type": "code",
   "execution_count": 3,
   "id": "05248d6f-2194-48dd-a582-77cbda1ad16c",
   "metadata": {},
   "outputs": [
    {
     "ename": "AttributeError",
     "evalue": "module 'hsfs' has no attribute 'hopsworks_udf'",
     "output_type": "error",
     "traceback": [
      "\u001b[31m---------------------------------------------------------------------------\u001b[39m",
      "\u001b[31mAttributeError\u001b[39m                            Traceback (most recent call last)",
      "\u001b[36mCell\u001b[39m\u001b[36m \u001b[39m\u001b[32mIn[3]\u001b[39m\u001b[32m, line 2\u001b[39m\n\u001b[32m      1\u001b[39m \u001b[38;5;28;01mimport\u001b[39;00m\u001b[38;5;250m \u001b[39m\u001b[34;01msrc\u001b[39;00m\u001b[34;01m.\u001b[39;00m\u001b[34;01mconfig\u001b[39;00m\u001b[38;5;250m \u001b[39m\u001b[38;5;28;01mas\u001b[39;00m\u001b[38;5;250m \u001b[39m\u001b[34;01mconfig\u001b[39;00m\n\u001b[32m----> \u001b[39m\u001b[32m2\u001b[39m \u001b[38;5;28;01mfrom\u001b[39;00m\u001b[38;5;250m \u001b[39m\u001b[34;01msrc\u001b[39;00m\u001b[34;01m.\u001b[39;00m\u001b[34;01minference\u001b[39;00m\u001b[38;5;250m \u001b[39m\u001b[38;5;28;01mimport\u001b[39;00m (\n\u001b[32m      3\u001b[39m     get_feature_store\n\u001b[32m      4\u001b[39m )\n\u001b[32m      6\u001b[39m \u001b[38;5;28;01mfrom\u001b[39;00m\u001b[38;5;250m \u001b[39m\u001b[34;01mdatetime\u001b[39;00m\u001b[38;5;250m \u001b[39m\u001b[38;5;28;01mimport\u001b[39;00m datetime, timezone, timedelta\n\u001b[32m      8\u001b[39m \u001b[38;5;28;01mdef\u001b[39;00m\u001b[38;5;250m \u001b[39m\u001b[34mget_current_utc_hour_ceiled\u001b[39m():\n",
      "\u001b[36mFile \u001b[39m\u001b[32m~\\Downloads\\sp25_taxi-main (1)\\sp25_taxi-main\\src\\inference.py:3\u001b[39m\n\u001b[32m      1\u001b[39m \u001b[38;5;28;01mfrom\u001b[39;00m\u001b[38;5;250m \u001b[39m\u001b[34;01mdatetime\u001b[39;00m\u001b[38;5;250m \u001b[39m\u001b[38;5;28;01mimport\u001b[39;00m datetime, timedelta, timezone\n\u001b[32m----> \u001b[39m\u001b[32m3\u001b[39m \u001b[38;5;28;01mimport\u001b[39;00m\u001b[38;5;250m \u001b[39m\u001b[34;01mhopsworks\u001b[39;00m\n\u001b[32m      4\u001b[39m \u001b[38;5;28;01mimport\u001b[39;00m\u001b[38;5;250m \u001b[39m\u001b[34;01mnumpy\u001b[39;00m\u001b[38;5;250m \u001b[39m\u001b[38;5;28;01mas\u001b[39;00m\u001b[38;5;250m \u001b[39m\u001b[34;01mnp\u001b[39;00m\n\u001b[32m      5\u001b[39m \u001b[38;5;28;01mimport\u001b[39;00m\u001b[38;5;250m \u001b[39m\u001b[34;01mpandas\u001b[39;00m\u001b[38;5;250m \u001b[39m\u001b[38;5;28;01mas\u001b[39;00m\u001b[38;5;250m \u001b[39m\u001b[34;01mpd\u001b[39;00m\n",
      "\u001b[36mFile \u001b[39m\u001b[32m~\\anaconda3\\envs\\nyctaxi\\Lib\\site-packages\\hopsworks\\__init__.py:61\u001b[39m\n\u001b[32m     58\u001b[39m _secrets_api = \u001b[38;5;28;01mNone\u001b[39;00m\n\u001b[32m     59\u001b[39m _project_api = \u001b[38;5;28;01mNone\u001b[39;00m\n\u001b[32m---> \u001b[39m\u001b[32m61\u001b[39m udf = \u001b[43mhsfs\u001b[49m\u001b[43m.\u001b[49m\u001b[43mhopsworks_udf\u001b[49m.udf\n\u001b[32m     64\u001b[39m \u001b[38;5;28;01mdef\u001b[39;00m\u001b[38;5;250m \u001b[39m\u001b[34mhw_formatwarning\u001b[39m(message, category, filename, lineno, line=\u001b[38;5;28;01mNone\u001b[39;00m):\n\u001b[32m     65\u001b[39m     \u001b[38;5;28;01mreturn\u001b[39;00m \u001b[33m\"\u001b[39m\u001b[38;5;132;01m{}\u001b[39;00m\u001b[33m: \u001b[39m\u001b[38;5;132;01m{}\u001b[39;00m\u001b[38;5;130;01m\\n\u001b[39;00m\u001b[33m\"\u001b[39m.format(category.\u001b[34m__name__\u001b[39m, message)\n",
      "\u001b[31mAttributeError\u001b[39m: module 'hsfs' has no attribute 'hopsworks_udf'"
     ]
    }
   ],
   "source": [
    "import src.config as config\n",
    "from src.inference import (\n",
    "    get_feature_store\n",
    ")\n",
    "\n",
    "from datetime import datetime, timezone, timedelta\n",
    "\n",
    "def get_current_utc_hour_ceiled():\n",
    "    \"\"\"Get current UTC time ceiled to the next hour\"\"\"\n",
    "    current = datetime.now(timezone.utc)\n",
    "    if current.minute > 0 or current.second > 0:\n",
    "        # Ceil to next hour\n",
    "        current = current + timedelta(hours=1)\n",
    "\n",
    "    # Reset minutes, seconds, and microseconds\n",
    "    current = current.replace(minute=0, second=0, microsecond=0)\n",
    "    return current\n",
    "\n",
    "# Usage\n",
    "current_hour = get_current_utc_hour_ceiled()\n",
    "print(f\"Current UTC hour (ceiled): {current_hour}\")"
   ]
  },
  {
   "cell_type": "code",
   "execution_count": null,
   "id": "5c5559a0-89e2-458d-9bbc-b1ec103659f6",
   "metadata": {},
   "outputs": [],
   "source": [
    "def fetch_predictions():\n",
    "    current_date = pd.Timestamp.now(tz='Etc/UTC').ceil('h')\n",
    "\n",
    "    fs = get_feature_store()\n",
    "    fg = fs.get_feature_group(\n",
    "        name=config.FEATURE_GROUP_MODEL_PREDICTION,\n",
    "        version=1\n",
    "    )\n",
    "\n",
    "    query = fg.select_all()\n",
    "    query = query.filter(fg.pickup_hour == current_hour)\n",
    "\n",
    "    return query.read()"
   ]
  },
  {
   "cell_type": "code",
   "execution_count": null,
   "id": "53a3af64-b773-43a6-bb10-c9e209cc6cb0",
   "metadata": {},
   "outputs": [],
   "source": [
    "fs = get_feature_store()\n",
    "fg = fs.get_feature_group(\n",
    "    name=config.FEATURE_GROUP_MODEL_PREDICTION,\n",
    "    version=1\n",
    ")\n",
    "\n",
    "query = fg.select_all()"
   ]
  },
  {
   "cell_type": "code",
   "execution_count": null,
   "id": "c6321059-d894-4f75-94c8-b4ea29bf8ea5",
   "metadata": {},
   "outputs": [],
   "source": [
    "df= query.read()"
   ]
  },
  {
   "cell_type": "code",
   "execution_count": null,
   "id": "367f3978-9a5d-4d97-b19a-88afcfb1d14f",
   "metadata": {},
   "outputs": [],
   "source": []
  },
  {
   "cell_type": "code",
   "execution_count": null,
   "id": "8d03786a-90dc-425a-8e4e-3b4dca4a08fa",
   "metadata": {},
   "outputs": [],
   "source": [
    "df"
   ]
  },
  {
   "cell_type": "code",
   "execution_count": null,
   "id": "90415d0c-053a-4fba-94dd-eb6d231875bd",
   "metadata": {},
   "outputs": [],
   "source": [
    "a.info()"
   ]
  },
  {
   "cell_type": "code",
   "execution_count": null,
   "id": "39ea132b-5a59-44cb-b155-fa765164e3cc",
   "metadata": {},
   "outputs": [],
   "source": [
    "from datetime import datetime, timezone, timedelta\n",
    "\n",
    "def fetch_next_hour_predictions():\n",
    "    # Get current UTC time and round up to next hour\n",
    "    now = datetime.now(timezone.utc)\n",
    "    next_hour = (now + timedelta(hours=1)).replace(minute=0, second=0, microsecond=0)\n",
    "\n",
    "    # Extract components from the rounded-up time\n",
    "    year = next_hour.year\n",
    "    month = next_hour.month\n",
    "    day = next_hour.day\n",
    "    hour = next_hour.hour\n",
    "\n",
    "    # Create date strings in YYYY-MM-DD format\n",
    "    current_date = f\"{year}-{month:02d}-{day:02d}\"\n",
    "    next_date = next_hour + timedelta(days=1)\n",
    "    next_date_str = next_date.strftime(\"%Y-%m-%d\")\n",
    "\n",
    "    fs = get_feature_store()\n",
    "    fg = fs.get_feature_group(\n",
    "        name=config.FEATURE_GROUP_MODEL_PREDICTION,\n",
    "        version=1\n",
    "    )\n",
    "\n",
    "    # # First get the full day's data from Hopsworks\n",
    "    # df = fg.filter(\n",
    "    #     (fg.pickup_hour >= current_date) &\n",
    "    #     (fg.pickup_hour < next_date_str)\n",
    "    # ).read()\n",
    "\n",
    "    # Then filter for next hour in the DataFrame\n",
    "    hour_str = f\"{current_date} {hour:02d}:00\"\n",
    "    df_hour = df[df['pickup_hour'] == hour_str]\n",
    "\n",
    "    print(f\"Current UTC time: {now}\")\n",
    "    print(f\"Next hour: {next_hour}\")\n",
    "    print(f\"Querying for date range: {current_date} to {next_date_str}\")\n",
    "    print(f\"Filtering for hour: {hour_str}\")\n",
    "    print(f\"Found {len(df_hour)} records\")\n",
    "    return df_hour\n",
    "\n",
    "# Example usage:\n",
    "predictions = fetch_next_hour_predictions()"
   ]
  },
  {
   "cell_type": "code",
   "execution_count": null,
   "id": "4c512f98-d569-4a9f-8391-d301b1226c91",
   "metadata": {},
   "outputs": [],
   "source": [
    "now = datetime.now(timezone.utc)"
   ]
  },
  {
   "cell_type": "code",
   "execution_count": null,
   "id": "0e5671d3-701d-4fca-bb91-a697f622239a",
   "metadata": {},
   "outputs": [],
   "source": [
    "predictions"
   ]
  },
  {
   "cell_type": "code",
   "execution_count": null,
   "id": "48c2c460-25c6-4c26-84e8-ae82a1fdcf33",
   "metadata": {},
   "outputs": [],
   "source": [
    "df.info()"
   ]
  },
  {
   "cell_type": "code",
   "execution_count": null,
   "id": "5930b159-b4e4-4b51-acd9-0b7b167b6236",
   "metadata": {},
   "outputs": [],
   "source": [
    "import pandas as pd\n",
    "current_date = pd.Timestamp.now(tz='Etc/UTC').ceil('h')"
   ]
  },
  {
   "cell_type": "code",
   "execution_count": null,
   "id": "14cb7cca-beba-4017-9fa0-5ad7b6acfe90",
   "metadata": {},
   "outputs": [],
   "source": [
    "dt = current_date.ceil('h')\n"
   ]
  },
  {
   "cell_type": "code",
   "execution_count": null,
   "id": "455e4d11-8a5a-434c-b634-bbf9edd02bd7",
   "metadata": {},
   "outputs": [],
   "source": [
    "fs = get_feature_store()  \n",
    "fg = fs.get_feature_group(  \n",
    "    name=config.FEATURE_GROUP_MODEL_PREDICTION,  \n",
    "    version=1  \n",
    ")  \n",
    "query = fg.select_all() \n",
    "# query = query.filter(fg.pickup_hour >= \"2025-02-13 04:00\")\n",
    "query = query.filter(fg.pickup_hour > \"2025-02-13 05:00:00\")  \n",
    "results = query.read()"
   ]
  },
  {
   "cell_type": "code",
   "execution_count": null,
   "id": "fab34fc8-2594-4dfd-8046-fa7ede562979",
   "metadata": {},
   "outputs": [],
   "source": [
    "fg.filter((fg.pickup_hour >= \"2025-02-13\") & (fg.pickup_hour < \"2025-02-14\")).read()"
   ]
  },
  {
   "cell_type": "code",
   "execution_count": null,
   "id": "bb732f4b-65ee-4956-87b5-c9a9c2f367b3",
   "metadata": {},
   "outputs": [],
   "source": [
    "results"
   ]
  },
  {
   "cell_type": "code",
   "execution_count": null,
   "id": "3015ad82-b0b7-42e0-b6e3-6e69550da93a",
   "metadata": {},
   "outputs": [],
   "source": [
    "def fetch_next_hour_predictions():\n",
    "    # Get current UTC time and round up to next hour\n",
    "    now = datetime.now(timezone.utc)\n",
    "    next_hour = (now + timedelta(hours=1)).replace(minute=0, second=0, microsecond=0)\n",
    "\n",
    "    fs = get_feature_store()\n",
    "    fg = fs.get_feature_group(name=config.FEATURE_GROUP_MODEL_PREDICTION, version=1)\n",
    "\n",
    "    # Then filter for next hour in the DataFrame\n",
    "    df_hour = df[df[\"pickup_hour\"] == next_hour]\n",
    "\n",
    "    print(f\"Current UTC time: {now}\")\n",
    "    print(f\"Next hour: {next_hour}\")\n",
    "    print(f\"Found {len(df_hour)} records\")\n",
    "    return df_hour"
   ]
  },
  {
   "cell_type": "code",
   "execution_count": null,
   "id": "1a42dc2b-f1b3-40a2-8610-1bed9c822355",
   "metadata": {},
   "outputs": [],
   "source": [
    "predictions = fetch_next_hour_predictions()"
   ]
  },
  {
   "cell_type": "code",
   "execution_count": null,
   "id": "6495da67-1068-41e0-9092-458c11626900",
   "metadata": {},
   "outputs": [],
   "source": [
    "fs = get_feature_store()\n",
    "fg = fs.get_feature_group(name=config.FEATURE_GROUP_MODEL_PREDICTION, version=1)\n",
    "\n"
   ]
  },
  {
   "cell_type": "code",
   "execution_count": null,
   "id": "9761c899-38c7-4560-9226-d41ce20811df",
   "metadata": {},
   "outputs": [],
   "source": [
    "df = fg.read()"
   ]
  },
  {
   "cell_type": "code",
   "execution_count": null,
   "id": "90052c02-a072-423f-95d5-086c1ca786eb",
   "metadata": {},
   "outputs": [],
   "source": [
    "df[\"pickup_hour\"].max()"
   ]
  },
  {
   "cell_type": "code",
   "execution_count": null,
   "id": "30f5c3e8-156e-44a5-ac8a-ccb1479a6936",
   "metadata": {},
   "outputs": [],
   "source": [
    "now = datetime.now(timezone.utc)\n",
    "next_hour = (now + timedelta(hours=1)).replace(minute=0, second=0, microsecond=0)\n",
    "print(next_hour)"
   ]
  },
  {
   "cell_type": "code",
   "execution_count": null,
   "id": "02ebe046-ae58-489e-99e7-a4f27755a10f",
   "metadata": {},
   "outputs": [],
   "source": [
    "df[df[\"pickup_hour\"] == next_hour]"
   ]
  },
  {
   "cell_type": "code",
   "execution_count": null,
   "id": "73a93950-042a-4a66-a701-368370770748",
   "metadata": {},
   "outputs": [],
   "source": []
  },
  {
   "cell_type": "code",
   "execution_count": null,
   "id": "24c57740-65e5-42ac-b87a-14d7abf8a1d0",
   "metadata": {},
   "outputs": [],
   "source": []
  },
  {
   "cell_type": "code",
   "execution_count": null,
   "id": "320d37e0-38a9-4213-8f2f-c0029f22a574",
   "metadata": {},
   "outputs": [],
   "source": []
  },
  {
   "cell_type": "code",
   "execution_count": null,
   "id": "a338f44d-a258-48cb-9074-d327c2b102b2",
   "metadata": {},
   "outputs": [],
   "source": []
  }
 ],
 "metadata": {
  "kernelspec": {
   "display_name": "Python 3 (ipykernel)",
   "language": "python",
   "name": "python3"
  },
  "language_info": {
   "codemirror_mode": {
    "name": "ipython",
    "version": 3
   },
   "file_extension": ".py",
   "mimetype": "text/x-python",
   "name": "python",
   "nbconvert_exporter": "python",
   "pygments_lexer": "ipython3",
   "version": "3.11.11"
  }
 },
 "nbformat": 4,
 "nbformat_minor": 5
}
